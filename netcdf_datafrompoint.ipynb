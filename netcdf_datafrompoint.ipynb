{
 "cells": [
  {
   "cell_type": "code",
   "execution_count": 2,
   "metadata": {},
   "outputs": [],
   "source": [
    "from netCDF4 import Dataset\n",
    "import matplotlib.pyplot as plt     #pyplot is a collection of functions to make Python work like MATLAB\n",
    "import cartopy.crs as ccrs\n",
    "import cartopy.feature as cfeature\n",
    "import numpy as np"
   ]
  },
  {
   "cell_type": "code",
   "execution_count": 3,
   "metadata": {},
   "outputs": [],
   "source": [
    "plt.style.use('ggplot')\n",
    "\n",
    "borders = cfeature.NaturalEarthFeature( #cfeature draws Mapdata from a Database\n",
    "    category='cultural',\n",
    "    name='admin_0_countries',\n",
    "    scale='10m',\n",
    "    facecolor='none')\n",
    "\n",
    "graz_lat = 47.0667\n",
    "graz_lon = 15.45"
   ]
  },
  {
   "cell_type": "code",
   "execution_count": 4,
   "metadata": {},
   "outputs": [],
   "source": [
    "def readDataset(filePath):\n",
    "    dataset = Dataset(filePath, mode='r')\n",
    "    for i in dataset.variables:\n",
    "        print(i, dataset.variables[i].units, dataset.variables[i].shape)\n",
    "    lons = dataset.variables['lon'][:,:]\n",
    "    lats = dataset.variables['lat'][:,:]\n",
    "    time = dataset.variables['time'][:]\n",
    "    #title = dataset.title\n",
    "\n",
    "    try:\n",
    "        meantmp = dataset.variables['T2M'][:, :]\n",
    "        meantmp_units = dataset.variables['T2M'].units\n",
    "        dataset.close()\n",
    "    except:\n",
    "        meantmp = dataset.variables['tasmin'][:, :]\n",
    "        meantmp_units = dataset.variables['tasmin'].units\n",
    "        dataset.close()\n",
    "\n",
    "    datasetdict =\t{\n",
    "    \"lat_lst\": lats,\n",
    "    \"lon_lst\": lons,\n",
    "    \"tmp_ary\": meantmp,\n",
    "    \"tmp_ut\": meantmp_units,\n",
    "    \"time\" : time,\n",
    "    #\"title\" : title\n",
    "    }\n",
    "    return datasetdict"
   ]
  },
  {
   "cell_type": "code",
   "execution_count": 5,
   "metadata": {},
   "outputs": [],
   "source": [
    "inca_nc_filepath = 'C:/Users/Arthur/Desktop/Daten/INCA_2008_monmean.nc'\n",
    "incaonspart_nc_filepath = \"C:/Users/Arthur/Desktop/Daten/INCA_2008_monmean_SPARTACUS.nc\"\n",
    "spart_nc_filepath = \"C:/Users/Arthur/Desktop/Daten/SPARTACUS_2008_monmean.nc\"\n",
    "EOBS_nc_filepath = \"C:/Users/Arthur/Desktop/Daten/EOBS_2008_monmean.nc\"\n"
   ]
  },
  {
   "cell_type": "code",
   "execution_count": 6,
   "metadata": {},
   "outputs": [
    {
     "name": "stdout",
     "output_type": "stream",
     "text": [
      "lon degrees_east (401, 701)\n",
      "lat degrees_north (401, 701)\n",
      "time days since 2004-01-01 00:00:00 (12,)\n",
      "T2M Celsius (12, 401, 701)\n"
     ]
    }
   ],
   "source": [
    "inca_monmean = readDataset(inca_nc_filepath)"
   ]
  },
  {
   "cell_type": "code",
   "execution_count": 7,
   "metadata": {},
   "outputs": [
    {
     "name": "stdout",
     "output_type": "stream",
     "text": [
      "lon degrees_east (297, 575)\n",
      "lat degrees_north (297, 575)\n",
      "time days since 1961-01-01 12:00:00 (12,)\n",
      "tasmin Celsius (12, 297, 575)\n"
     ]
    }
   ],
   "source": [
    "incaonspart_monmean = readDataset(incaonspart_nc_filepath)"
   ]
  },
  {
   "cell_type": "code",
   "execution_count": 8,
   "metadata": {},
   "outputs": [
    {
     "name": "stdout",
     "output_type": "stream",
     "text": [
      "lon degrees_east (297, 575)\n",
      "lat degrees_north (297, 575)\n",
      "time days since 1961-01-01 12:00:00 (12,)\n",
      "tasmin Celsius (12, 297, 575)\n"
     ]
    }
   ],
   "source": [
    "spart_monmean = readDataset(spart_nc_filepath)"
   ]
  },
  {
   "cell_type": "code",
   "execution_count": 37,
   "metadata": {},
   "outputs": [],
   "source": [
    "def naive_fast(latvar,lonvar,lat0,lon0):\n",
    "    '''\n",
    "    Find closest point in a set of (lat,lon) points to specified point\n",
    "    latvar - 2D latitude variable from an open netCDF dataset\n",
    "    lonvar - 2D longitude variable from an open netCDF dataset\n",
    "    lat0,lon0 - query point\n",
    "    Returns iy,ix such that the square of the tunnel distance\n",
    "    between (latval[it,ix],lonval[iy,ix]) and (lat0,lon0)\n",
    "    is minimum.\n",
    "    '''\n",
    "    # Read latitude and longitude from file into numpy arrays\n",
    "    latvals = latvar[:]\n",
    "    lonvals = lonvar[:]\n",
    "    ny,nx = latvals.shape\n",
    "    dist_sq = (latvals-lat0)**2 + (lonvals-lon0)**2\n",
    "    minindex_flattened = dist_sq.argmin()  # 1D index of min element\n",
    "    minindex_flattened\n",
    "    iy_min,ix_min = np.unravel_index(minindex_flattened, latvals.shape)\n",
    "    return iy_min,ix_min"
   ]
  },
  {
   "cell_type": "code",
   "execution_count": 38,
   "metadata": {},
   "outputs": [
    {
     "name": "stdout",
     "output_type": "stream",
     "text": [
      "Closest lat lon: 47.070960998535156 15.44734001159668\n",
      "Spartcus Index y = 79\n",
      "Spartcus Index x = 449\n",
      "Temperature at Index: -1.4451613 °C\n"
     ]
    }
   ],
   "source": [
    "latvar = spart_monmean[\"lat_lst\"]\n",
    "lonvar = spart_monmean[\"lon_lst\"]\n",
    "iy, ix = naive_fast(latvar, lonvar, graz_lat, graz_lon)\n",
    "print('Closest lat lon:', latvar[iy,ix], lonvar[iy,ix])\n",
    "print('Spartcus Index y =',iy)\n",
    "print('Spartcus Index x =',ix)\n",
    "print('Temperature at Index:',spart_monmean[\"tmp_ary\"][0,79,449],'°C')"
   ]
  },
  {
   "cell_type": "code",
   "execution_count": 39,
   "metadata": {},
   "outputs": [
    {
     "name": "stdout",
     "output_type": "stream",
     "text": [
      "Closest lat lon: 47.06629943847656 15.454000473022461\n",
      "INCA Index y = 134\n",
      "INCA Index x = 541\n",
      "Temperature at Index: -1.2419355 °C\n"
     ]
    }
   ],
   "source": [
    "latvar = inca_monmean[\"lat_lst\"]\n",
    "lonvar = inca_monmean[\"lon_lst\"]\n",
    "iy, ix = naive_fast(latvar, lonvar, graz_lat, graz_lon)\n",
    "print('Closest lat lon:', latvar[iy,ix], lonvar[iy,ix])\n",
    "print('INCA Index y =',iy)\n",
    "print('INCA Index x =',ix)\n",
    "print('Temperature at Index:',inca_monmean[\"tmp_ary\"][0,134,541],'°C')"
   ]
  },
  {
   "cell_type": "code",
   "execution_count": 41,
   "metadata": {},
   "outputs": [
    {
     "name": "stdout",
     "output_type": "stream",
     "text": [
      "Closest lat lon: 47.070960998535156 15.44734001159668\n",
      "INCA on SPARTACUS Index y = 79\n",
      "INCA on SPARTACUS Index x = 449\n",
      "Temperature at Index: -1.2419355 °C\n"
     ]
    }
   ],
   "source": [
    "latvar = incaonspart_monmean[\"lat_lst\"]\n",
    "lonvar = incaonspart_monmean[\"lon_lst\"]\n",
    "iy, ix = naive_fast(latvar, lonvar, graz_lat, graz_lon)\n",
    "print('Closest lat lon:', latvar[iy,ix], lonvar[iy,ix])\n",
    "print('INCA on SPARTACUS Index y =',iy)\n",
    "print('INCA on SPARTACUS Index x =',ix)\n",
    "print('Temperature at Index:',inca_monmean[\"tmp_ary\"][0,134,541],'°C')"
   ]
  },
  {
   "cell_type": "code",
   "execution_count": null,
   "metadata": {},
   "outputs": [],
   "source": []
  }
 ],
 "metadata": {
  "kernelspec": {
   "display_name": "Python 3",
   "language": "python",
   "name": "python3"
  },
  "language_info": {
   "codemirror_mode": {
    "name": "ipython",
    "version": 3
   },
   "file_extension": ".py",
   "mimetype": "text/x-python",
   "name": "python",
   "nbconvert_exporter": "python",
   "pygments_lexer": "ipython3",
   "version": "3.7.4"
  }
 },
 "nbformat": 4,
 "nbformat_minor": 2
}
